{
 "cells": [
  {
   "cell_type": "markdown",
   "id": "ce592547-3176-40a5-b7a1-46c95faf2e45",
   "metadata": {},
   "source": [
    "Initially we wish to setup the python environment, as such we import the required packages:"
   ]
  },
  {
   "cell_type": "code",
   "execution_count": 1,
   "id": "5e8dea3f-559b-4c16-a0d7-2b10cf9835e8",
   "metadata": {},
   "outputs": [],
   "source": [
    "import torch\n",
    "import numpy as np\n",
    "import pandas as pd\n",
    "import statsmodels as sts\n",
    "import matplotlib.pyplot as plt\n",
    "from torch.utils.data import TensorDataset, DataLoader\n",
    "from torch.utils.tensorboard import SummaryWriter"
   ]
  },
  {
   "cell_type": "markdown",
   "id": "3c4a046b-b5e1-4474-92a6-f93558ce2a14",
   "metadata": {},
   "source": [
    "Having completed the importing, we proceed with data input and some routine explanatory data analysis:"
   ]
  },
  {
   "cell_type": "code",
   "execution_count": 2,
   "id": "291104e6-ad5d-40ff-a099-5aff613e8617",
   "metadata": {},
   "outputs": [],
   "source": [
    "data = pd.read_csv('sunspots.txt', header=0)"
   ]
  },
  {
   "cell_type": "markdown",
   "id": "2cd8d015-48c5-4f8e-98ad-c34537a10651",
   "metadata": {},
   "source": [
    "Having obtained the data we will briefly examine it to see the overall format of the dataframe"
   ]
  },
  {
   "cell_type": "code",
   "execution_count": 3,
   "id": "ca7744fa-fc32-4f7b-b5ea-551f1933034e",
   "metadata": {},
   "outputs": [
    {
     "data": {
      "text/html": [
       "<div>\n",
       "<style scoped>\n",
       "    .dataframe tbody tr th:only-of-type {\n",
       "        vertical-align: middle;\n",
       "    }\n",
       "\n",
       "    .dataframe tbody tr th {\n",
       "        vertical-align: top;\n",
       "    }\n",
       "\n",
       "    .dataframe thead th {\n",
       "        text-align: right;\n",
       "    }\n",
       "</style>\n",
       "<table border=\"1\" class=\"dataframe\">\n",
       "  <thead>\n",
       "    <tr style=\"text-align: right;\">\n",
       "      <th></th>\n",
       "      <th>Month</th>\n",
       "      <th>Sunspots</th>\n",
       "    </tr>\n",
       "  </thead>\n",
       "  <tbody>\n",
       "    <tr>\n",
       "      <th>0</th>\n",
       "      <td>1749-01</td>\n",
       "      <td>58.0</td>\n",
       "    </tr>\n",
       "    <tr>\n",
       "      <th>1</th>\n",
       "      <td>1749-02</td>\n",
       "      <td>62.6</td>\n",
       "    </tr>\n",
       "    <tr>\n",
       "      <th>2</th>\n",
       "      <td>1749-03</td>\n",
       "      <td>70.0</td>\n",
       "    </tr>\n",
       "    <tr>\n",
       "      <th>3</th>\n",
       "      <td>1749-04</td>\n",
       "      <td>55.7</td>\n",
       "    </tr>\n",
       "    <tr>\n",
       "      <th>4</th>\n",
       "      <td>1749-05</td>\n",
       "      <td>85.0</td>\n",
       "    </tr>\n",
       "    <tr>\n",
       "      <th>...</th>\n",
       "      <td>...</td>\n",
       "      <td>...</td>\n",
       "    </tr>\n",
       "    <tr>\n",
       "      <th>2815</th>\n",
       "      <td>1983-08</td>\n",
       "      <td>71.8</td>\n",
       "    </tr>\n",
       "    <tr>\n",
       "      <th>2816</th>\n",
       "      <td>1983-09</td>\n",
       "      <td>50.3</td>\n",
       "    </tr>\n",
       "    <tr>\n",
       "      <th>2817</th>\n",
       "      <td>1983-10</td>\n",
       "      <td>55.8</td>\n",
       "    </tr>\n",
       "    <tr>\n",
       "      <th>2818</th>\n",
       "      <td>1983-11</td>\n",
       "      <td>33.3</td>\n",
       "    </tr>\n",
       "    <tr>\n",
       "      <th>2819</th>\n",
       "      <td>1983-12</td>\n",
       "      <td>33.4</td>\n",
       "    </tr>\n",
       "  </tbody>\n",
       "</table>\n",
       "<p>2820 rows × 2 columns</p>\n",
       "</div>"
      ],
      "text/plain": [
       "        Month  Sunspots\n",
       "0     1749-01      58.0\n",
       "1     1749-02      62.6\n",
       "2     1749-03      70.0\n",
       "3     1749-04      55.7\n",
       "4     1749-05      85.0\n",
       "...       ...       ...\n",
       "2815  1983-08      71.8\n",
       "2816  1983-09      50.3\n",
       "2817  1983-10      55.8\n",
       "2818  1983-11      33.3\n",
       "2819  1983-12      33.4\n",
       "\n",
       "[2820 rows x 2 columns]"
      ]
     },
     "execution_count": 3,
     "metadata": {},
     "output_type": "execute_result"
    }
   ],
   "source": [
    "data"
   ]
  },
  {
   "cell_type": "code",
   "execution_count": 4,
   "id": "fe9fe9de-2aee-4c9b-bacf-cc7959b3a7c2",
   "metadata": {},
   "outputs": [
    {
     "data": {
      "text/plain": [
       "(2820, 2)"
      ]
     },
     "execution_count": 4,
     "metadata": {},
     "output_type": "execute_result"
    }
   ],
   "source": [
    "data.shape"
   ]
  },
  {
   "cell_type": "markdown",
   "id": "9030f40c-3dfc-4d45-85a8-dec8bbe10d83",
   "metadata": {},
   "source": [
    "Hence it is clear that we have 2820 observations, with one column corresponding to a discrete time index (Month) and the other corresponding to the Average number of sunspots observed for that month. As the next step we will plot this time series realization for the analysis. \n",
    "\n",
    "Note, we converted the Month values into Pandas DateTime type, this is done for plotting"
   ]
  },
  {
   "cell_type": "code",
   "execution_count": 5,
   "id": "dba01c0c-e907-4fba-8b9c-32362da0bb00",
   "metadata": {},
   "outputs": [
    {
     "data": {
      "image/png": "[encoded data removed]",
      "text/plain": [
       "<Figure size 576x360 with 1 Axes>"
      ]
     },
     "metadata": {
      "needs_background": "light"
     },
     "output_type": "display_data"
    }
   ],
   "source": [
    "data = data.set_index(['Month'])\n",
    "data.index = pd.to_datetime(data.index)\n",
    "if not data.index.is_monotonic:\n",
    "    data = data.sort_index()\n",
    "\n",
    "\n",
    "plt.figure(figsize=(8, 5))\n",
    "\n",
    "plt.plot(data[\"Sunspots\"], 'r.')\n",
    "plt.title(\"Number of average monthly sunspots\")\n",
    "plt.xlabel('Year', fontsize=8)\n",
    "\n",
    "plt.ylabel('Monthly average number of sunspots', fontsize=8)\n",
    "\n",
    "plt.show()"
   ]
  },
  {
   "cell_type": "markdown",
   "id": "a7bf9db7-4554-429f-96e2-fdf1da92b551",
   "metadata": {},
   "source": [
    "Hence there is a clear overall increasigng trend as seen by the slowly increasing value of the peaks, while the presence of said peaks and throughs is indicative of some sort of periodicity (i.e seasonal)\n",
    "component for this process. There is also clearly some stochastic properties in it as seen by the fluctuations in the series, this noise however is not overwhelming as some clear structure is still observed."
   ]
  },
  {
   "cell_type": "markdown",
   "id": "aaebb4f0-9fdc-40d2-af62-58b86228c5b3",
   "metadata": {},
   "source": [
    "Noting that the index is arbitrary as long as the sequence order is preserved and that we are only interested in the trend in the Number of Sunsports we extract only the values and convert them to float for future use."
   ]
  },
  {
   "cell_type": "code",
   "execution_count": 6,
   "id": "791a90b5-6cae-40de-bc5c-b2f9237ef7af",
   "metadata": {},
   "outputs": [
    {
     "data": {
      "text/plain": [
       "Month\n",
       "1749-01-01    58.0\n",
       "1749-02-01    62.6\n",
       "1749-03-01    70.0\n",
       "1749-04-01    55.7\n",
       "1749-05-01    85.0\n",
       "              ... \n",
       "1983-08-01    71.8\n",
       "1983-09-01    50.3\n",
       "1983-10-01    55.8\n",
       "1983-11-01    33.3\n",
       "1983-12-01    33.4\n",
       "Name: Sunspots, Length: 2820, dtype: float64"
      ]
     },
     "execution_count": 6,
     "metadata": {},
     "output_type": "execute_result"
    }
   ],
   "source": [
    "dataValues = data[\"Sunspots\"]\n",
    "\n",
    "dataValues = pd.to_numeric(dataValues)\n",
    "\n",
    "dataValues"
   ]
  },
  {
   "cell_type": "markdown",
   "id": "f380eee9-c3e7-4fa6-a162-0d4bd96ede70",
   "metadata": {},
   "source": [
    "Briefly returning to the plotted Time Series, we do see some extreme variation in this data and hence would like to examine the range of magnitudes in it. \n"
   ]
  },
  {
   "cell_type": "code",
   "execution_count": 7,
   "id": "2a3b252a-c4c1-4d2b-8366-823f48f38221",
   "metadata": {},
   "outputs": [
    {
     "name": "stdout",
     "output_type": "stream",
     "text": [
      "253.8\n",
      "0.0\n"
     ]
    }
   ],
   "source": [
    "\n",
    "dataMax = dataValues.max()\n",
    "dataMin = dataValues.min()\n",
    "\n",
    "print(dataMax)\n",
    "print(dataMin)"
   ]
  },
  {
   "cell_type": "markdown",
   "id": "b5db8609-fc26-4bad-91cb-1360ee23e67a",
   "metadata": {},
   "source": [
    "Hence we see that there is a substantial difference in minimal and maximum number, as such we will implement the Data-Augmentation regularization strategy by apply a Min-Max Normalization transformation to the data. This will have a dampening effect on the noise present in the data and theoretically should make learning and optimization easier as well (see appendix)."
   ]
  },
  {
   "cell_type": "code",
   "execution_count": 8,
   "id": "8e8416b3-2bbf-4091-82c4-09728a483da3",
   "metadata": {},
   "outputs": [
    {
     "data": {
      "text/plain": [
       "Month\n",
       "1749-01-01    0.228526\n",
       "1749-02-01    0.246651\n",
       "1749-03-01    0.275808\n",
       "1749-04-01    0.219464\n",
       "1749-05-01    0.334909\n",
       "                ...   \n",
       "1983-08-01    0.282900\n",
       "1983-09-01    0.198188\n",
       "1983-10-01    0.219858\n",
       "1983-11-01    0.131206\n",
       "1983-12-01    0.131600\n",
       "Name: Sunspots, Length: 2820, dtype: float64"
      ]
     },
     "execution_count": 8,
     "metadata": {},
     "output_type": "execute_result"
    }
   ],
   "source": [
    "dataNormalized = (dataValues - dataMin) / (dataMax - dataMin)\n",
    "\n",
    "dataNormalized"
   ]
  },
  {
   "cell_type": "markdown",
   "id": "f52b2469-dd42-44bc-83fa-3fe825666dbf",
   "metadata": {},
   "source": [
    "Which when plotted out yields:"
   ]
  },
  {
   "cell_type": "code",
   "execution_count": 9,
   "id": "2b30cde8-b005-48b2-a5dc-e254b4f6eb57",
   "metadata": {},
   "outputs": [
    {
     "data": {
      "image/png": "[encoded data removed]",
      "text/plain": [
       "<Figure size 576x360 with 1 Axes>"
      ]
     },
     "metadata": {
      "needs_background": "light"
     },
     "output_type": "display_data"
    }
   ],
   "source": [
    "plt.figure(figsize=(8, 5))\n",
    "\n",
    "plt.plot(dataNormalized, 'r.')\n",
    "plt.title(\"Normalized number of average monthly sunspots from 1749-01 to 1983-12 (red)\")\n",
    "plt.xlabel('Number of months since 1749-01', fontsize=8)\n",
    "\n",
    "plt.ylabel('Monthly average number of sunspots', fontsize=8)\n",
    "\n",
    "plt.show()"
   ]
  },
  {
   "cell_type": "markdown",
   "id": "da14da01-653c-45cc-be56-934f698b08dd",
   "metadata": {},
   "source": [
    "Having applied this we see that the shape of the process has been preserved, however the values are now ranging from 0 to 1 instead (this will aid in avoiding large weights in the RNN implementations)"
   ]
  },
  {
   "cell_type": "markdown",
   "id": "cd54de55-c758-4c61-8448-58240dfb2d73",
   "metadata": {},
   "source": [
    "Given the task is to predict the future value of the time series based on the previous values i.e we want to predict $Y^{(t+n)}$ conditioned on $[ Y^{(1)},...,Y^{(t+n-1)}]$ we will use the previous observations as features. To this end we merely need to create a lagged dataset based on the original data to be the vectors fousing the examples of the feature space; we also remove unneeded terms such that both sets are equi-sized. We till construct these to 12'th lag as the data is monthly.\n",
    "\n",
    "(Note for clarify we used the entirety of the dataframe and not just the values)"
   ]
  },
  {
   "cell_type": "code",
   "execution_count": 10,
   "id": "ad2e5917-8e06-4fbe-b785-fca0a14c8cff",
   "metadata": {},
   "outputs": [
    {
     "data": {
      "text/html": [
       "<div>\n",
       "<style scoped>\n",
       "    .dataframe tbody tr th:only-of-type {\n",
       "        vertical-align: middle;\n",
       "    }\n",
       "\n",
       "    .dataframe tbody tr th {\n",
       "        vertical-align: top;\n",
       "    }\n",
       "\n",
       "    .dataframe thead th {\n",
       "        text-align: right;\n",
       "    }\n",
       "</style>\n",
       "<table border=\"1\" class=\"dataframe\">\n",
       "  <thead>\n",
       "    <tr style=\"text-align: right;\">\n",
       "      <th></th>\n",
       "      <th>Sunspots</th>\n",
       "      <th>lag1</th>\n",
       "      <th>lag2</th>\n",
       "      <th>lag3</th>\n",
       "      <th>lag4</th>\n",
       "      <th>lag5</th>\n",
       "      <th>lag6</th>\n",
       "      <th>lag7</th>\n",
       "      <th>lag8</th>\n",
       "      <th>lag9</th>\n",
       "      <th>lag10</th>\n",
       "      <th>lag11</th>\n",
       "      <th>lag12</th>\n",
       "    </tr>\n",
       "    <tr>\n",
       "      <th>Month</th>\n",
       "      <th></th>\n",
       "      <th></th>\n",
       "      <th></th>\n",
       "      <th></th>\n",
       "      <th></th>\n",
       "      <th></th>\n",
       "      <th></th>\n",
       "      <th></th>\n",
       "      <th></th>\n",
       "      <th></th>\n",
       "      <th></th>\n",
       "      <th></th>\n",
       "      <th></th>\n",
       "    </tr>\n",
       "  </thead>\n",
       "  <tbody>\n",
       "    <tr>\n",
       "      <th>1750-01-01</th>\n",
       "      <td>73.3</td>\n",
       "      <td>85.2</td>\n",
       "      <td>158.6</td>\n",
       "      <td>75.5</td>\n",
       "      <td>75.9</td>\n",
       "      <td>66.3</td>\n",
       "      <td>94.8</td>\n",
       "      <td>83.5</td>\n",
       "      <td>85.0</td>\n",
       "      <td>55.7</td>\n",
       "      <td>70.0</td>\n",
       "      <td>62.6</td>\n",
       "      <td>58.0</td>\n",
       "    </tr>\n",
       "    <tr>\n",
       "      <th>1750-02-01</th>\n",
       "      <td>75.9</td>\n",
       "      <td>73.3</td>\n",
       "      <td>85.2</td>\n",
       "      <td>158.6</td>\n",
       "      <td>75.5</td>\n",
       "      <td>75.9</td>\n",
       "      <td>66.3</td>\n",
       "      <td>94.8</td>\n",
       "      <td>83.5</td>\n",
       "      <td>85.0</td>\n",
       "      <td>55.7</td>\n",
       "      <td>70.0</td>\n",
       "      <td>62.6</td>\n",
       "    </tr>\n",
       "    <tr>\n",
       "      <th>1750-03-01</th>\n",
       "      <td>89.2</td>\n",
       "      <td>75.9</td>\n",
       "      <td>73.3</td>\n",
       "      <td>85.2</td>\n",
       "      <td>158.6</td>\n",
       "      <td>75.5</td>\n",
       "      <td>75.9</td>\n",
       "      <td>66.3</td>\n",
       "      <td>94.8</td>\n",
       "      <td>83.5</td>\n",
       "      <td>85.0</td>\n",
       "      <td>55.7</td>\n",
       "      <td>70.0</td>\n",
       "    </tr>\n",
       "    <tr>\n",
       "      <th>1750-04-01</th>\n",
       "      <td>88.3</td>\n",
       "      <td>89.2</td>\n",
       "      <td>75.9</td>\n",
       "      <td>73.3</td>\n",
       "      <td>85.2</td>\n",
       "      <td>158.6</td>\n",
       "      <td>75.5</td>\n",
       "      <td>75.9</td>\n",
       "      <td>66.3</td>\n",
       "      <td>94.8</td>\n",
       "      <td>83.5</td>\n",
       "      <td>85.0</td>\n",
       "      <td>55.7</td>\n",
       "    </tr>\n",
       "    <tr>\n",
       "      <th>1750-05-01</th>\n",
       "      <td>90.0</td>\n",
       "      <td>88.3</td>\n",
       "      <td>89.2</td>\n",
       "      <td>75.9</td>\n",
       "      <td>73.3</td>\n",
       "      <td>85.2</td>\n",
       "      <td>158.6</td>\n",
       "      <td>75.5</td>\n",
       "      <td>75.9</td>\n",
       "      <td>66.3</td>\n",
       "      <td>94.8</td>\n",
       "      <td>83.5</td>\n",
       "      <td>85.0</td>\n",
       "    </tr>\n",
       "    <tr>\n",
       "      <th>...</th>\n",
       "      <td>...</td>\n",
       "      <td>...</td>\n",
       "      <td>...</td>\n",
       "      <td>...</td>\n",
       "      <td>...</td>\n",
       "      <td>...</td>\n",
       "      <td>...</td>\n",
       "      <td>...</td>\n",
       "      <td>...</td>\n",
       "      <td>...</td>\n",
       "      <td>...</td>\n",
       "      <td>...</td>\n",
       "      <td>...</td>\n",
       "    </tr>\n",
       "    <tr>\n",
       "      <th>1983-08-01</th>\n",
       "      <td>71.8</td>\n",
       "      <td>82.2</td>\n",
       "      <td>91.1</td>\n",
       "      <td>99.2</td>\n",
       "      <td>80.7</td>\n",
       "      <td>66.5</td>\n",
       "      <td>51.0</td>\n",
       "      <td>84.3</td>\n",
       "      <td>127.0</td>\n",
       "      <td>98.1</td>\n",
       "      <td>94.7</td>\n",
       "      <td>118.8</td>\n",
       "      <td>107.6</td>\n",
       "    </tr>\n",
       "    <tr>\n",
       "      <th>1983-09-01</th>\n",
       "      <td>50.3</td>\n",
       "      <td>71.8</td>\n",
       "      <td>82.2</td>\n",
       "      <td>91.1</td>\n",
       "      <td>99.2</td>\n",
       "      <td>80.7</td>\n",
       "      <td>66.5</td>\n",
       "      <td>51.0</td>\n",
       "      <td>84.3</td>\n",
       "      <td>127.0</td>\n",
       "      <td>98.1</td>\n",
       "      <td>94.7</td>\n",
       "      <td>118.8</td>\n",
       "    </tr>\n",
       "    <tr>\n",
       "      <th>1983-10-01</th>\n",
       "      <td>55.8</td>\n",
       "      <td>50.3</td>\n",
       "      <td>71.8</td>\n",
       "      <td>82.2</td>\n",
       "      <td>91.1</td>\n",
       "      <td>99.2</td>\n",
       "      <td>80.7</td>\n",
       "      <td>66.5</td>\n",
       "      <td>51.0</td>\n",
       "      <td>84.3</td>\n",
       "      <td>127.0</td>\n",
       "      <td>98.1</td>\n",
       "      <td>94.7</td>\n",
       "    </tr>\n",
       "    <tr>\n",
       "      <th>1983-11-01</th>\n",
       "      <td>33.3</td>\n",
       "      <td>55.8</td>\n",
       "      <td>50.3</td>\n",
       "      <td>71.8</td>\n",
       "      <td>82.2</td>\n",
       "      <td>91.1</td>\n",
       "      <td>99.2</td>\n",
       "      <td>80.7</td>\n",
       "      <td>66.5</td>\n",
       "      <td>51.0</td>\n",
       "      <td>84.3</td>\n",
       "      <td>127.0</td>\n",
       "      <td>98.1</td>\n",
       "    </tr>\n",
       "    <tr>\n",
       "      <th>1983-12-01</th>\n",
       "      <td>33.4</td>\n",
       "      <td>33.3</td>\n",
       "      <td>55.8</td>\n",
       "      <td>50.3</td>\n",
       "      <td>71.8</td>\n",
       "      <td>82.2</td>\n",
       "      <td>91.1</td>\n",
       "      <td>99.2</td>\n",
       "      <td>80.7</td>\n",
       "      <td>66.5</td>\n",
       "      <td>51.0</td>\n",
       "      <td>84.3</td>\n",
       "      <td>127.0</td>\n",
       "    </tr>\n",
       "  </tbody>\n",
       "</table>\n",
       "<p>2808 rows × 13 columns</p>\n",
       "</div>"
      ],
      "text/plain": [
       "            Sunspots  lag1   lag2   lag3   lag4   lag5   lag6  lag7   lag8  \\\n",
       "Month                                                                        \n",
       "1750-01-01      73.3  85.2  158.6   75.5   75.9   66.3   94.8  83.5   85.0   \n",
       "1750-02-01      75.9  73.3   85.2  158.6   75.5   75.9   66.3  94.8   83.5   \n",
       "1750-03-01      89.2  75.9   73.3   85.2  158.6   75.5   75.9  66.3   94.8   \n",
       "1750-04-01      88.3  89.2   75.9   73.3   85.2  158.6   75.5  75.9   66.3   \n",
       "1750-05-01      90.0  88.3   89.2   75.9   73.3   85.2  158.6  75.5   75.9   \n",
       "...              ...   ...    ...    ...    ...    ...    ...   ...    ...   \n",
       "1983-08-01      71.8  82.2   91.1   99.2   80.7   66.5   51.0  84.3  127.0   \n",
       "1983-09-01      50.3  71.8   82.2   91.1   99.2   80.7   66.5  51.0   84.3   \n",
       "1983-10-01      55.8  50.3   71.8   82.2   91.1   99.2   80.7  66.5   51.0   \n",
       "1983-11-01      33.3  55.8   50.3   71.8   82.2   91.1   99.2  80.7   66.5   \n",
       "1983-12-01      33.4  33.3   55.8   50.3   71.8   82.2   91.1  99.2   80.7   \n",
       "\n",
       "             lag9  lag10  lag11  lag12  \n",
       "Month                                   \n",
       "1750-01-01   55.7   70.0   62.6   58.0  \n",
       "1750-02-01   85.0   55.7   70.0   62.6  \n",
       "1750-03-01   83.5   85.0   55.7   70.0  \n",
       "1750-04-01   94.8   83.5   85.0   55.7  \n",
       "1750-05-01   66.3   94.8   83.5   85.0  \n",
       "...           ...    ...    ...    ...  \n",
       "1983-08-01   98.1   94.7  118.8  107.6  \n",
       "1983-09-01  127.0   98.1   94.7  118.8  \n",
       "1983-10-01   84.3  127.0   98.1   94.7  \n",
       "1983-11-01   51.0   84.3  127.0   98.1  \n",
       "1983-12-01   66.5   51.0   84.3  127.0  \n",
       "\n",
       "[2808 rows x 13 columns]"
      ]
     },
     "execution_count": 10,
     "metadata": {},
     "output_type": "execute_result"
    }
   ],
   "source": [
    "def lagged_time_series(TS,nlag):\n",
    "    \n",
    "    dataCopy = TS.copy()\n",
    "    \n",
    "    for n in range(1,nlag+1):\n",
    "        \n",
    "        dataCopy[f\"lag{n}\"] = dataCopy[\"Sunspots\"].shift(n)\n",
    "        \n",
    "    dataCopy = dataCopy.iloc[nlag:]\n",
    "    \n",
    "    return dataCopy\n",
    "\n",
    "lag = 60\n",
    "dataLagged = lagged_time_series(data,lag)\n",
    "\n",
    "dataLagged\n",
    "        "
   ]
  },
  {
   "cell_type": "markdown",
   "id": "45670c89-face-4f2f-8503-c8802cfe679e",
   "metadata": {},
   "source": [
    "Hence briefly examining the lagged dataset"
   ]
  },
  {
   "cell_type": "code",
   "execution_count": 11,
   "id": "8bb4cc53-c349-4c3f-954e-2e33686a3dc8",
   "metadata": {},
   "outputs": [
    {
     "data": {
      "text/plain": [
       "(2808, 13)"
      ]
     },
     "execution_count": 11,
     "metadata": {},
     "output_type": "execute_result"
    }
   ],
   "source": [
    "\n",
    "dataLagged.shape"
   ]
  },
  {
   "cell_type": "markdown",
   "id": "e0ccfa27-8948-4142-859d-8a79fa84f9cf",
   "metadata": {},
   "source": [
    "Having done some basic data preprocessing we will now split the data into the three required sets based on a 80,10,10 split. Note it is vital to maintain the order of the time series. Note we first separate out the features (i.e the lagged observations) from the predictions (actual observations)."
   ]
  },
  {
   "cell_type": "code",
   "execution_count": 12,
   "id": "4145cbda-f8a6-4030-b075-9090c9ef6594",
   "metadata": {},
   "outputs": [
    {
     "name": "stdout",
     "output_type": "stream",
     "text": [
      "(2246, 12)\n",
      "(562, 12)\n",
      "(2246, 1)\n",
      "(562, 1)\n",
      "(281, 12)\n",
      "(281, 12)\n",
      "(281, 1)\n",
      "(281, 1)\n"
     ]
    }
   ],
   "source": [
    "    \n",
    "Y = dataLagged[[\"Sunspots\"]]\n",
    "    \n",
    "X = dataLagged.drop(columns=[\"Sunspots\"])\n",
    "\n",
    "\n",
    "# TRAIN AND REMAIN SPLIT\n",
    "Split1 = int(len(Y)*0.8)\n",
    "\n",
    "Xtrain, Xremain = X[:Split1],X[Split1:]\n",
    "Ytrain, Yremain = Y[:Split1],Y[Split1:]\n",
    "\n",
    "# INSPECT DIMENSIONS\n",
    "print(Xtrain.shape)\n",
    "print(Xremain.shape)\n",
    "\n",
    "print(Ytrain.shape)\n",
    "print(Yremain.shape)            \n",
    "    \n",
    "# TEST AND VAL SPLIT\n",
    "Split2 = int(len(Yremain)*0.5)\n",
    "\n",
    "Xtest, Xval = Xremain[:Split2],Xremain[Split2:]\n",
    "Ytest, Yval = Yremain[:Split2],Yremain[Split2:]\n",
    "\n",
    "# INSPECT DIMENSIONS\n",
    "print(Xtest.shape)\n",
    "print(Xval.shape)\n",
    "\n",
    "print(Ytest.shape)\n",
    "print(Yval.shape)            \n"
   ]
  },
  {
   "cell_type": "markdown",
   "id": "30c32e50-9f89-4eb2-90e1-fa347b1d71ae",
   "metadata": {},
   "source": [
    "Having created all the required sets and verifying that their dimensions are correct we will create a set of DataLoaders such that minibatching can be implemented."
   ]
  },
  {
   "cell_type": "code",
   "execution_count": 16,
   "id": "be57e1e4-29dd-4ea3-966c-fe578255f39c",
   "metadata": {},
   "outputs": [],
   "source": [
    "batchSize = 64\n",
    "\n",
    "#Firstly it is required to convert the panda dataframes into Torch Tensor data structures:\n",
    "\n",
    "TrainFeatures = torch.Tensor(np.array(Xtrain))\n",
    "TrainTargets = torch.Tensor(np.array(Ytrain))\n",
    "\n",
    "TrainSet = TensorDataset(TrainFeatures, TrainTargets)\n",
    "\n",
    "\n",
    "ValFeatures = torch.Tensor(np.array(Xval))\n",
    "ValTargets = torch.Tensor(np.array(Yval))\n",
    "\n",
    "ValSet = TensorDataset(ValFeatures, ValTargets)\n",
    "\n",
    "\n",
    "TestFeatures = torch.Tensor(np.array(Xtest))\n",
    "TestTargets = torch.Tensor(np.array(Ytest))\n",
    "\n",
    "TestSet = TensorDataset(TestFeatures, TestTargets)\n",
    "\n",
    "\n",
    "#Dataloaders\n",
    "TrainLoader = DataLoader(TrainSet, batch_size=batchSize, shuffle=False, drop_last=True)\n",
    "\n",
    "ValLoader = DataLoader(ValSet, batch_size=batchSize, shuffle=False, drop_last=True)\n",
    "\n",
    "TestLoader = DataLoader(TestSet, batch_size=batchSize, shuffle=False, drop_last=True)\n",
    "\n",
    "Loader_one = DataLoader(TestSet, batch_size=1, shuffle=False, drop_last=True)"
   ]
  },
  {
   "cell_type": "markdown",
   "id": "e8486be6-17c3-4678-bd9a-11531ab0ea08",
   "metadata": {},
   "source": [
    "Having done this we have concluded in the data processing and analysis phase and can progress to building the models."
   ]
  }
 ],
 "metadata": {
  "kernelspec": {
   "display_name": "Python 3",
   "language": "python",
   "name": "python3"
  },
  "language_info": {
   "codemirror_mode": {
    "name": "ipython",
    "version": 3
   },
   "file_extension": ".py",
   "mimetype": "text/x-python",
   "name": "python",
   "nbconvert_exporter": "python",
   "pygments_lexer": "ipython3",
   "version": "3.8.8"
  }
 },
 "nbformat": 4,
 "nbformat_minor": 5
}
